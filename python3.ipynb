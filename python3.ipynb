{
 "cells": [
  {
   "cell_type": "markdown",
   "metadata": {},
   "source": [
    "# Importamos numpy e carregamos um arquivo para ser usado no teste da função"
   ]
  },
  {
   "cell_type": "code",
   "execution_count": 4,
   "metadata": {
    "collapsed": true
   },
   "outputs": [],
   "source": [
    "import numpy as np\n",
    "arquivo=np.loadtxt(\"dados\\\\brazil-TAVG-Trend.txt\", comments='%')"
   ]
  },
  {
   "cell_type": "markdown",
   "metadata": {},
   "source": [
    "# Definimos as variáveis \"anos\" e \"meses\" e definimos a função \"anos_dec\""
   ]
  },
  {
   "cell_type": "code",
   "execution_count": 29,
   "metadata": {
    "collapsed": false
   },
   "outputs": [],
   "source": [
    "anos=arquivo[:,0]\n",
    "meses=arquivo[:,1]\n",
    "def anos_dec(anos, meses):\n",
    "    assert type(anos)==np.ndarray, \"Tipo de variável errada\"\n",
    "    assert type(meses)==np.ndarray, \"Tipo de variável errada\"\n",
    "    return anos+(meses-1)/12"
   ]
  },
  {
   "cell_type": "markdown",
   "metadata": {},
   "source": [
    "# Testamos a função com os dados do arquivo carregado"
   ]
  },
  {
   "cell_type": "code",
   "execution_count": 30,
   "metadata": {
    "collapsed": false
   },
   "outputs": [
    {
     "data": {
      "text/plain": [
       "array([ 1832.        ,  1832.08333333,  1832.16666667, ...,  2013.5       ,\n",
       "        2013.58333333,  2013.66666667])"
      ]
     },
     "execution_count": 30,
     "metadata": {},
     "output_type": "execute_result"
    }
   ],
   "source": [
    "anos_dec(anos, meses)"
   ]
  },
  {
   "cell_type": "code",
   "execution_count": 32,
   "metadata": {
    "collapsed": false
   },
   "outputs": [],
   "source": [
    "temp=arquivo[:,2]\n",
    "def temp_anodec_anomanual_incanomanual_ano10_incano10(temp):\n",
    "    assert type(temp)==np.ndarray, \"Tipo de variável errada\"\n",
    "    anomanual=arquivo[:,4]\n",
    "    incanomanual=arquivo[:,5]\n",
    "    ano10=arquivo[:,8]\n",
    "    incano10=arquivo[:,9]\n",
    "    return (anos_dec(anos, meses),anomanual, incanomanual, ano10, incano10)"
   ]
  },
  {
   "cell_type": "code",
   "execution_count": 33,
   "metadata": {
    "collapsed": false
   },
   "outputs": [
    {
     "data": {
      "text/plain": [
       "(array([ 1832.        ,  1832.08333333,  1832.16666667, ...,  2013.5       ,\n",
       "         2013.58333333,  2013.66666667]),\n",
       " array([ nan,  nan,  nan, ...,  nan,  nan,  nan]),\n",
       " array([ nan,  nan,  nan, ...,  nan,  nan,  nan]),\n",
       " array([ nan,  nan,  nan, ...,  nan,  nan,  nan]),\n",
       " array([ nan,  nan,  nan, ...,  nan,  nan,  nan]))"
      ]
     },
     "execution_count": 33,
     "metadata": {},
     "output_type": "execute_result"
    }
   ],
   "source": [
    "temp_anodec_anomanual_incanomanual_ano10_incano10(temp)"
   ]
  },
  {
   "cell_type": "code",
   "execution_count": null,
   "metadata": {
    "collapsed": false
   },
   "outputs": [],
   "source": []
  },
  {
   "cell_type": "code",
   "execution_count": null,
   "metadata": {
    "collapsed": true
   },
   "outputs": [],
   "source": []
  }
 ],
 "metadata": {
  "kernelspec": {
   "display_name": "Python [Root]",
   "language": "python",
   "name": "Python [Root]"
  },
  "language_info": {
   "codemirror_mode": {
    "name": "ipython",
    "version": 3
   },
   "file_extension": ".py",
   "mimetype": "text/x-python",
   "name": "python",
   "nbconvert_exporter": "python",
   "pygments_lexer": "ipython3",
   "version": "3.5.2"
  }
 },
 "nbformat": 4,
 "nbformat_minor": 0
}
